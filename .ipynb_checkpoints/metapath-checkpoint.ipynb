{
 "cells": [
  {
   "cell_type": "code",
   "execution_count": null,
   "metadata": {},
   "outputs": [],
   "source": [
    "%run review_hash.ipynb"
   ]
  },
  {
   "cell_type": "code",
   "execution_count": null,
   "metadata": {},
   "outputs": [],
   "source": [
    "from nltk.corpus import stopwords\n",
    "from nltk.tokenize import word_tokenize\n",
    "import pandas as pd\n",
    "from sklearn.feature_extraction.text import TfidfVectorizer\n",
    "from sklearn.metrics.pairwise import cosine_similarity"
   ]
  },
  {
   "cell_type": "code",
   "execution_count": null,
   "metadata": {},
   "outputs": [],
   "source": [
    "df=pd.read_csv(\"review_with_product.csv\")\n",
    "#print(df.product_name)\n",
    "product=set()\n",
    "company=set()\n",
    "seller=set()\n",
    "products=df.product_name\n",
    "companies=df.company_name\n",
    "sellers=df.seller\n",
    "df1=df.groupby([\"seller\"])  #stores grouped mean of sellers\n",
    "#print(df1.get_group(\"cloudtail\"))"
   ]
  },
  {
   "cell_type": "code",
   "execution_count": null,
   "metadata": {},
   "outputs": [],
   "source": [
    "for i in products:\n",
    "    product.add(i)\n",
    "for i in companies:\n",
    "    company.add(i)\n",
    "for i in sellers:\n",
    "    seller.add(i)"
   ]
  },
  {
   "cell_type": "code",
   "execution_count": null,
   "metadata": {},
   "outputs": [],
   "source": [
    "i=0\n",
    "total=0"
   ]
  },
  {
   "cell_type": "code",
   "execution_count": null,
   "metadata": {},
   "outputs": [],
   "source": [
    "#avg_rating=df.rating.mean(axis=0)\n",
    "#print(\"avg rating is \",avg_rating)\n",
    "avg_seller_rating={}\n",
    "for seller_names in seller:\n",
    "    #print(df1.get_group(seller_names))\n",
    "    inter=df1.get_group(seller_names)\n",
    "    avg_seller_rating[seller_names]=inter.rating.mean(axis=0)\n",
    "print(avg_seller_rating)"
   ]
  },
  {
   "cell_type": "code",
   "execution_count": null,
   "metadata": {},
   "outputs": [],
   "source": [
    "#give the name of the person here\n",
    "name=\"uday\"\n",
    "user_df=df.groupby(\"user_id\")\n",
    "user_df=user_df.get_group(1)\n",
    "print(user_df)\n",
    "user_avg_rating=user_df.rating.mean(axis=0)\n",
    "no_reviews_user=user_df.shape[0]\n",
    "print(\"user_avg_rating is \",user_avg_rating)"
   ]
  },
  {
   "cell_type": "code",
   "execution_count": null,
   "metadata": {},
   "outputs": [],
   "source": [
    "user_df=user_df.groupby(\"seller\")\n",
    "user_avg_seller_rating={}\n",
    "no_reviews={}"
   ]
  },
  {
   "cell_type": "code",
   "execution_count": null,
   "metadata": {},
   "outputs": [],
   "source": [
    "for seller_names in seller:\n",
    "    #print(df1.get_group(seller_names))\n",
    "    inter=user_df.get_group(seller_names)\n",
    "    no_reviews[seller_names]=inter.shape[0]\n",
    "    user_avg_seller_rating[seller_names]=inter.rating.mean(axis=0)\n",
    "print(\"avng seller rating by uday\",user_avg_seller_rating)"
   ]
  },
  {
   "cell_type": "code",
   "execution_count": null,
   "metadata": {},
   "outputs": [],
   "source": [
    "user_id_count=6;\n",
    "inter=df.groupby(\"user_id\")\n",
    "user_reviews={}"
   ]
  },
  {
   "cell_type": "code",
   "execution_count": null,
   "metadata": {},
   "outputs": [],
   "source": [
    "for i in range(1,user_id_count+1):          #traversing each user\n",
    "    each_user=df.loc[df['user_id'] ==i]\n",
    "    print(each_user)\n",
    "    user_name=each_user.iloc[0][\"user_name\"]\n",
    "    print(user_name)\n",
    "    user_reviews[i]={}          #creating a dict for each user, where productname:review stored\n",
    "    reviews=[]\n",
    "    rows=each_user.shape[0]\n",
    "    for var in range(rows):\n",
    "        user_reviews[i][each_user.iloc[var][\"product_name\"]]=each_user.iloc[var][\"review\"]\n",
    "#        reviews.append(each_user.iloc[var][\"review\"])\n",
    "    #user_reviews[i]=reviews\n",
    "print(user_reviews)"
   ]
  },
  {
   "cell_type": "code",
   "execution_count": null,
   "metadata": {},
   "outputs": [],
   "source": [
    "single_user_review=user_reviews[1]      #change userid for other users\n",
    "sim_list=[]\n",
    "fake_user=True"
   ]
  },
  {
   "cell_type": "code",
   "execution_count": null,
   "metadata": {},
   "outputs": [],
   "source": [
    "for id in user_reviews.keys():\n",
    "  if(id!=1):                          #change\n",
    "    print(\"comparing with user \",id)\n",
    "    sim_list=[]\n",
    "    count=0\n",
    "    compare_user_review=user_reviews[id]\n",
    "    for prod1 in single_user_review.keys():\n",
    "        for prod2 in compare_user_review.keys():\n",
    "            if(prod1==prod2):\n",
    "                r1=single_user_review[prod1]\n",
    "                r2=compare_user_review[prod2]\n",
    "                tfidf_vectorizer = TfidfVectorizer()\n",
    "                documents=(r1,r2)\n",
    "                tfidf_matrix = tfidf_vectorizer.fit_transform(documents)\n",
    "                print(cosine_similarity(tfidf_matrix[0:1], tfidf_matrix))\n",
    "                similarity=cosine_similarity(tfidf_matrix[0:1], tfidf_matrix)\n",
    "                sim_list.append(similarity[0][1])\n",
    "                if(similarity[0][1]>0.4):\n",
    "                    count+=1\n",
    "    if(count/len(sim_list)>0.65):\n",
    "                fake_user=True\n",
    "\n",
    "print(no_reviews)"
   ]
  },
  {
   "cell_type": "code",
   "execution_count": null,
   "metadata": {},
   "outputs": [],
   "source": [
    "user=False\n",
    "if((user_avg_rating>=4.5 or user_avg_rating<=2) and no_reviews_user>4):\n",
    "    printf(\"potential spammer\")\n",
    "    user=True\n",
    "for key in avg_seller_rating.keys():\n",
    "    if(avg_seller_rating[key]<2):\n",
    "        if(no_reviews[key]>2):\n",
    "            user=True\n",
    "            printf(\"potential spammer\")\n",
    "\n",
    "for key in avg_seller_rating.keys():\n",
    "    if((avg_seller_rating[key]>2 and avg_seller_rating[key]<4.3) or(avg_seller_rating[key]<2 and no_reviews[key]<2)):\n",
    "        user=False\n",
    "print(\"is user a spammer \",user)\n",
    "print(\"does user have more accounts \",fake_user)\n",
    "#print(similarity[0])"
   ]
  }
 ],
 "metadata": {
  "kernelspec": {
   "display_name": "Python 3",
   "language": "python",
   "name": "python3"
  },
  "language_info": {
   "codemirror_mode": {
    "name": "ipython",
    "version": 3
   },
   "file_extension": ".py",
   "mimetype": "text/x-python",
   "name": "python",
   "nbconvert_exporter": "python",
   "pygments_lexer": "ipython3",
   "version": "3.7.7"
  }
 },
 "nbformat": 4,
 "nbformat_minor": 4
}
