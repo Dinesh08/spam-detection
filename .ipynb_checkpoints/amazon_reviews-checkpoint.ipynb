{
 "cells": [
  {
   "cell_type": "code",
   "execution_count": 1,
   "metadata": {},
   "outputs": [],
   "source": [
    "import numpy as np # linear algebra\n",
    "import pandas as pd # data processing, CSV file I/O (e.g. pd.read_csv)\n",
    "import matplotlib.pyplot as plt\n",
    "import string\n",
    "import nltk\n",
    "from nltk.stem import SnowballStemmer\n",
    "from nltk.corpus import stopwords\n",
    "from sklearn.feature_extraction.text import TfidfVectorizer\n",
    "from sklearn.model_selection import train_test_split\n",
    "from sklearn.metrics import accuracy_score\n",
    "from sklearn.naive_bayes import MultinomialNB\n",
    "from sklearn.metrics import confusion_matrix\n",
    "from sklearn.metrics import classification_report\n",
    "import warnings\n",
    "warnings.filterwarnings(\"ignore\")"
   ]
  },
  {
   "cell_type": "code",
   "execution_count": 2,
   "metadata": {},
   "outputs": [],
   "source": [
    "review=pd.read_csv(\"amazon-review-scraper-labelled1.csv\",encoding=\"ISO-8859-1\")"
   ]
  },
  {
   "cell_type": "code",
   "execution_count": 3,
   "metadata": {},
   "outputs": [
    {
     "name": "stdout",
     "output_type": "stream",
     "text": [
      "    web-scraper-order                              web-scraper-start-url  \\\n",
      "0      1580573669-932  https://www.amazon.in/Redmi-Note-Pro-Storage-P...   \n",
      "1      1580573644-848  https://www.amazon.in/Redmi-Note-Pro-Storage-P...   \n",
      "2     1580574377-3407  https://www.amazon.in/Redmi-Note-Pro-Storage-P...   \n",
      "3     1580573743-1197  https://www.amazon.in/Redmi-Note-Pro-Storage-P...   \n",
      "4     1580574487-3799  https://www.amazon.in/Redmi-Note-Pro-Storage-P...   \n",
      "..                ...                                                ...   \n",
      "487               NaN                                                NaN   \n",
      "488               NaN                                                NaN   \n",
      "489               NaN                                                NaN   \n",
      "490   1580574456-3683  https://www.amazon.in/Redmi-Note-Pro-Storage-P...   \n",
      "491    1580573630-794  https://www.amazon.in/Redmi-Note-Pro-Storage-P...   \n",
      "\n",
      "              author                                 title  \\\n",
      "0    Amazon Customer  Thanks to Delivery at my wishes time   \n",
      "1    Amazon Customer                          Sensor Issue   \n",
      "2        Angel Singh          The Beast with Limitations..   \n",
      "3              khaja         Camera Error and Heavy weight   \n",
      "4    SYAM KRISHNAN.P                        Decent product   \n",
      "..               ...                                   ...   \n",
      "487              NaN                                   NaN   \n",
      "488              NaN                                   NaN   \n",
      "489              NaN                                   NaN   \n",
      "490       amol patil                              Not good   \n",
      "491    Bhanu Prakash     Best mobile with best performance   \n",
      "\n",
      "                                      date  \\\n",
      "0    Reviewed in India on 30 December 2019   \n",
      "1    Reviewed in India on 10 November 2019   \n",
      "2     Reviewed in India on 25 January 2020   \n",
      "3    Reviewed in India on 17 November 2019   \n",
      "4    Reviewed in India on 22 November 2019   \n",
      "..                                     ...   \n",
      "487                                    NaN   \n",
      "488                                    NaN   \n",
      "489                                    NaN   \n",
      "490  Reviewed in India on 12 November 2019   \n",
      "491  Reviewed in India on 22 November 2019   \n",
      "\n",
      "                                               content              rating  \\\n",
      "0    Thanks for delivery on 30th Dec because ordere...  5.0 out of 5 stars   \n",
      "1    Hi Team,\\n\\nI am having a trouble time with th...  1.0 out of 5 stars   \n",
      "2    Redmi's Personal Beast is Overall The Best in ...  5.0 out of 5 stars   \n",
      "3    very bad camera. whenever I start camera it is...  1.0 out of 5 stars   \n",
      "4    It's not a magical device.. But it won't make ...  4.0 out of 5 stars   \n",
      "..                                                 ...                 ...   \n",
      "487                                  I dont like miui                 NaN   \n",
      "488                                  miui is not good                  NaN   \n",
      "489                                   miui is childish                 NaN   \n",
      "490  Camera is good. Battery is not as per showing ...  2.0 out of 5 stars   \n",
      "491  Super mobile with best configuration. But more...  4.0 out of 5 stars   \n",
      "\n",
      "       label  \n",
      "0       spam  \n",
      "1    quality  \n",
      "2    quality  \n",
      "3    quality  \n",
      "4    quality  \n",
      "..       ...  \n",
      "487     spam  \n",
      "488     spam  \n",
      "489     spam  \n",
      "490  quality  \n",
      "491  quality  \n",
      "\n",
      "[492 rows x 8 columns]\n"
     ]
    }
   ],
   "source": [
    "print(review)"
   ]
  },
  {
   "cell_type": "code",
   "execution_count": 4,
   "metadata": {},
   "outputs": [
    {
     "data": {
      "text/html": [
       "<div>\n",
       "<style scoped>\n",
       "    .dataframe tbody tr th:only-of-type {\n",
       "        vertical-align: middle;\n",
       "    }\n",
       "\n",
       "    .dataframe tbody tr th {\n",
       "        vertical-align: top;\n",
       "    }\n",
       "\n",
       "    .dataframe thead th {\n",
       "        text-align: right;\n",
       "    }\n",
       "</style>\n",
       "<table border=\"1\" class=\"dataframe\">\n",
       "  <thead>\n",
       "    <tr style=\"text-align: right;\">\n",
       "      <th></th>\n",
       "      <th>web-scraper-order</th>\n",
       "      <th>web-scraper-start-url</th>\n",
       "      <th>author</th>\n",
       "      <th>title</th>\n",
       "      <th>date</th>\n",
       "      <th>content</th>\n",
       "      <th>rating</th>\n",
       "      <th>label</th>\n",
       "    </tr>\n",
       "  </thead>\n",
       "  <tbody>\n",
       "    <tr>\n",
       "      <th>count</th>\n",
       "      <td>465</td>\n",
       "      <td>465</td>\n",
       "      <td>475</td>\n",
       "      <td>465</td>\n",
       "      <td>465</td>\n",
       "      <td>492</td>\n",
       "      <td>475</td>\n",
       "      <td>492</td>\n",
       "    </tr>\n",
       "    <tr>\n",
       "      <th>unique</th>\n",
       "      <td>465</td>\n",
       "      <td>1</td>\n",
       "      <td>430</td>\n",
       "      <td>426</td>\n",
       "      <td>85</td>\n",
       "      <td>482</td>\n",
       "      <td>5</td>\n",
       "      <td>4</td>\n",
       "    </tr>\n",
       "    <tr>\n",
       "      <th>top</th>\n",
       "      <td>1580574273-3036</td>\n",
       "      <td>https://www.amazon.in/Redmi-Note-Pro-Storage-P...</td>\n",
       "      <td>Amazon Customer</td>\n",
       "      <td>Good</td>\n",
       "      <td>Reviewed in India on 7 November 2019</td>\n",
       "      <td>Good</td>\n",
       "      <td>5.0 out of 5 stars</td>\n",
       "      <td>quality</td>\n",
       "    </tr>\n",
       "    <tr>\n",
       "      <th>freq</th>\n",
       "      <td>1</td>\n",
       "      <td>465</td>\n",
       "      <td>42</td>\n",
       "      <td>8</td>\n",
       "      <td>15</td>\n",
       "      <td>4</td>\n",
       "      <td>262</td>\n",
       "      <td>455</td>\n",
       "    </tr>\n",
       "  </tbody>\n",
       "</table>\n",
       "</div>"
      ],
      "text/plain": [
       "       web-scraper-order                              web-scraper-start-url  \\\n",
       "count                465                                                465   \n",
       "unique               465                                                  1   \n",
       "top      1580574273-3036  https://www.amazon.in/Redmi-Note-Pro-Storage-P...   \n",
       "freq                   1                                                465   \n",
       "\n",
       "                 author title                                  date content  \\\n",
       "count               475   465                                   465     492   \n",
       "unique              430   426                                    85     482   \n",
       "top     Amazon Customer  Good  Reviewed in India on 7 November 2019    Good   \n",
       "freq                 42     8                                    15       4   \n",
       "\n",
       "                    rating    label  \n",
       "count                  475      492  \n",
       "unique                   5        4  \n",
       "top     5.0 out of 5 stars  quality  \n",
       "freq                   262      455  "
      ]
     },
     "execution_count": 4,
     "metadata": {},
     "output_type": "execute_result"
    }
   ],
   "source": [
    "review.describe()"
   ]
  },
  {
   "cell_type": "code",
   "execution_count": 5,
   "metadata": {},
   "outputs": [
    {
     "name": "stdout",
     "output_type": "stream",
     "text": [
      "<class 'pandas.core.frame.DataFrame'>\n",
      "RangeIndex: 492 entries, 0 to 491\n",
      "Data columns (total 8 columns):\n",
      " #   Column                 Non-Null Count  Dtype \n",
      "---  ------                 --------------  ----- \n",
      " 0   web-scraper-order      465 non-null    object\n",
      " 1   web-scraper-start-url  465 non-null    object\n",
      " 2   author                 475 non-null    object\n",
      " 3   title                  465 non-null    object\n",
      " 4   date                   465 non-null    object\n",
      " 5   content                492 non-null    object\n",
      " 6   rating                 475 non-null    object\n",
      " 7   label                  492 non-null    object\n",
      "dtypes: object(8)\n",
      "memory usage: 30.9+ KB\n"
     ]
    }
   ],
   "source": [
    "review.info()"
   ]
  },
  {
   "cell_type": "code",
   "execution_count": 6,
   "metadata": {},
   "outputs": [],
   "source": [
    "review=review.fillna('')"
   ]
  },
  {
   "cell_type": "code",
   "execution_count": 7,
   "metadata": {
    "scrolled": true
   },
   "outputs": [
    {
     "name": "stdout",
     "output_type": "stream",
     "text": [
      "<class 'pandas.core.frame.DataFrame'>\n",
      "RangeIndex: 492 entries, 0 to 491\n",
      "Data columns (total 8 columns):\n",
      " #   Column                 Non-Null Count  Dtype \n",
      "---  ------                 --------------  ----- \n",
      " 0   web-scraper-order      492 non-null    object\n",
      " 1   web-scraper-start-url  492 non-null    object\n",
      " 2   author                 492 non-null    object\n",
      " 3   title                  492 non-null    object\n",
      " 4   date                   492 non-null    object\n",
      " 5   content                492 non-null    object\n",
      " 6   rating                 492 non-null    object\n",
      " 7   label                  492 non-null    object\n",
      "dtypes: object(8)\n",
      "memory usage: 30.9+ KB\n"
     ]
    }
   ],
   "source": [
    "review.info()"
   ]
  },
  {
   "cell_type": "code",
   "execution_count": 8,
   "metadata": {},
   "outputs": [
    {
     "name": "stdout",
     "output_type": "stream",
     "text": [
      "    web-scraper-order                              web-scraper-start-url  \\\n",
      "0      1580573669-932  https://www.amazon.in/Redmi-Note-Pro-Storage-P...   \n",
      "1      1580573644-848  https://www.amazon.in/Redmi-Note-Pro-Storage-P...   \n",
      "2     1580574377-3407  https://www.amazon.in/Redmi-Note-Pro-Storage-P...   \n",
      "3     1580573743-1197  https://www.amazon.in/Redmi-Note-Pro-Storage-P...   \n",
      "4     1580574487-3799  https://www.amazon.in/Redmi-Note-Pro-Storage-P...   \n",
      "..                ...                                                ...   \n",
      "487                                                                        \n",
      "488                                                                        \n",
      "489                                                                        \n",
      "490   1580574456-3683  https://www.amazon.in/Redmi-Note-Pro-Storage-P...   \n",
      "491    1580573630-794  https://www.amazon.in/Redmi-Note-Pro-Storage-P...   \n",
      "\n",
      "              author                                 title  \\\n",
      "0    Amazon Customer  Thanks to Delivery at my wishes time   \n",
      "1    Amazon Customer                          Sensor Issue   \n",
      "2        Angel Singh          The Beast with Limitations..   \n",
      "3              khaja         Camera Error and Heavy weight   \n",
      "4    SYAM KRISHNAN.P                        Decent product   \n",
      "..               ...                                   ...   \n",
      "487                                                          \n",
      "488                                                          \n",
      "489                                                          \n",
      "490       amol patil                              Not good   \n",
      "491    Bhanu Prakash     Best mobile with best performance   \n",
      "\n",
      "                                      date  \\\n",
      "0    Reviewed in India on 30 December 2019   \n",
      "1    Reviewed in India on 10 November 2019   \n",
      "2     Reviewed in India on 25 January 2020   \n",
      "3    Reviewed in India on 17 November 2019   \n",
      "4    Reviewed in India on 22 November 2019   \n",
      "..                                     ...   \n",
      "487                                          \n",
      "488                                          \n",
      "489                                          \n",
      "490  Reviewed in India on 12 November 2019   \n",
      "491  Reviewed in India on 22 November 2019   \n",
      "\n",
      "                                               content              rating  \\\n",
      "0    Thanks for delivery on 30th Dec because ordere...  5.0 out of 5 stars   \n",
      "1    Hi Team,\\n\\nI am having a trouble time with th...  1.0 out of 5 stars   \n",
      "2    Redmi's Personal Beast is Overall The Best in ...  5.0 out of 5 stars   \n",
      "3    very bad camera. whenever I start camera it is...  1.0 out of 5 stars   \n",
      "4    It's not a magical device.. But it won't make ...  4.0 out of 5 stars   \n",
      "..                                                 ...                 ...   \n",
      "487                                  I dont like miui                       \n",
      "488                                  miui is not good                        \n",
      "489                                   miui is childish                       \n",
      "490  Camera is good. Battery is not as per showing ...  2.0 out of 5 stars   \n",
      "491  Super mobile with best configuration. But more...  4.0 out of 5 stars   \n",
      "\n",
      "       label  \n",
      "0       spam  \n",
      "1    quality  \n",
      "2    quality  \n",
      "3    quality  \n",
      "4    quality  \n",
      "..       ...  \n",
      "487     spam  \n",
      "488     spam  \n",
      "489     spam  \n",
      "490  quality  \n",
      "491  quality  \n",
      "\n",
      "[492 rows x 8 columns]\n"
     ]
    }
   ],
   "source": [
    "print(review)"
   ]
  },
  {
   "cell_type": "code",
   "execution_count": 9,
   "metadata": {},
   "outputs": [],
   "source": [
    "def pre_process(text):\n",
    "\n",
    "    text = text.translate(str.maketrans('', '', string.punctuation))\n",
    "    text = [word for word in text.split() if word.lower() not in stopwords.words('english')]\n",
    "    words = \"\"\n",
    "    for i in text:\n",
    "            stemmer = SnowballStemmer(\"english\")\n",
    "            words += (stemmer.stem(i))+\" \"\n",
    "    return words"
   ]
  },
  {
   "cell_type": "code",
   "execution_count": 10,
   "metadata": {
    "scrolled": true
   },
   "outputs": [
    {
     "name": "stdout",
     "output_type": "stream",
     "text": [
      "0      Thanks for delivery on 30th Dec because ordere...\n",
      "1      Hi Team,\\n\\nI am having a trouble time with th...\n",
      "2      Redmi's Personal Beast is Overall The Best in ...\n",
      "3      very bad camera. whenever I start camera it is...\n",
      "4      It's not a magical device.. But it won't make ...\n",
      "                             ...                        \n",
      "487                                    I dont like miui\n",
      "488                                    miui is not good \n",
      "489                                     miui is childish\n",
      "490    Camera is good. Battery is not as per showing ...\n",
      "491    Super mobile with best configuration. But more...\n",
      "Name: content, Length: 492, dtype: object\n"
     ]
    }
   ],
   "source": [
    "textFeatures = review['content'].copy()\n",
    "print(textFeatures)"
   ]
  },
  {
   "cell_type": "code",
   "execution_count": 11,
   "metadata": {},
   "outputs": [],
   "source": [
    "textFeatures = textFeatures.apply(pre_process)"
   ]
  },
  {
   "cell_type": "code",
   "execution_count": 12,
   "metadata": {},
   "outputs": [],
   "source": [
    "vectorizer = TfidfVectorizer(\"english\")\n",
    "features = vectorizer.fit_transform(textFeatures)"
   ]
  },
  {
   "cell_type": "code",
   "execution_count": 13,
   "metadata": {},
   "outputs": [],
   "source": [
    "features_train, features_test, labels_train, labels_test = train_test_split(features, review['label'], test_size=0.3, random_state=111)"
   ]
  },
  {
   "cell_type": "code",
   "execution_count": 14,
   "metadata": {},
   "outputs": [
    {
     "data": {
      "text/plain": [
       "<344x1747 sparse matrix of type '<class 'numpy.float64'>'\n",
       "\twith 5685 stored elements in Compressed Sparse Row format>"
      ]
     },
     "execution_count": 14,
     "metadata": {},
     "output_type": "execute_result"
    }
   ],
   "source": [
    "features_train"
   ]
  },
  {
   "cell_type": "code",
   "execution_count": 15,
   "metadata": {},
   "outputs": [
    {
     "data": {
      "text/plain": [
       "<148x1747 sparse matrix of type '<class 'numpy.float64'>'\n",
       "\twith 2031 stored elements in Compressed Sparse Row format>"
      ]
     },
     "execution_count": 15,
     "metadata": {},
     "output_type": "execute_result"
    }
   ],
   "source": [
    "features_test"
   ]
  },
  {
   "cell_type": "code",
   "execution_count": 16,
   "metadata": {},
   "outputs": [
    {
     "data": {
      "text/plain": [
       "MultinomialNB(alpha=0.2, class_prior=None, fit_prior=True)"
      ]
     },
     "execution_count": 16,
     "metadata": {},
     "output_type": "execute_result"
    }
   ],
   "source": [
    "mnb = MultinomialNB(alpha=0.2)\n",
    "mnb.fit(features_train,labels_train)"
   ]
  },
  {
   "cell_type": "code",
   "execution_count": 17,
   "metadata": {
    "scrolled": true
   },
   "outputs": [
    {
     "name": "stdout",
     "output_type": "stream",
     "text": [
      "multinomial naive bayes 0.9256756756756757\n"
     ]
    }
   ],
   "source": [
    "prediction = mnb.predict(features_test)\n",
    "print(\"multinomial naive bayes\",accuracy_score(labels_test,prediction))"
   ]
  },
  {
   "cell_type": "code",
   "execution_count": 18,
   "metadata": {},
   "outputs": [
    {
     "name": "stdout",
     "output_type": "stream",
     "text": [
      "Classification Report\n",
      "               precision    recall  f1-score   support\n",
      "\n",
      "        spam       0.09      0.50      0.15         2\n",
      "     quality       1.00      0.93      0.96       146\n",
      "\n",
      "   micro avg       0.93      0.93      0.93       148\n",
      "   macro avg       0.55      0.72      0.56       148\n",
      "weighted avg       0.99      0.93      0.95       148\n",
      "\n"
     ]
    }
   ],
   "source": [
    "print(\"Classification Report\\n\",classification_report(prediction,labels_test,labels=[\"spam\", \"quality\"]))"
   ]
  },
  {
   "cell_type": "code",
   "execution_count": null,
   "metadata": {},
   "outputs": [],
   "source": []
  }
 ],
 "metadata": {
  "kernelspec": {
   "display_name": "Python 3",
   "language": "python",
   "name": "python3"
  },
  "language_info": {
   "codemirror_mode": {
    "name": "ipython",
    "version": 3
   },
   "file_extension": ".py",
   "mimetype": "text/x-python",
   "name": "python",
   "nbconvert_exporter": "python",
   "pygments_lexer": "ipython3",
   "version": "3.7.7"
  }
 },
 "nbformat": 4,
 "nbformat_minor": 4
}
